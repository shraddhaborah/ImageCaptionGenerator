{
  "nbformat": 4,
  "nbformat_minor": 0,
  "metadata": {
    "colab": {
      "provenance": [],
      "authorship_tag": "ABX9TyOxyEPdmpPRLUpf4z2GNWG9",
      "include_colab_link": true
    },
    "kernelspec": {
      "name": "python3",
      "display_name": "Python 3"
    },
    "language_info": {
      "name": "python"
    }
  },
  "cells": [
    {
      "cell_type": "markdown",
      "metadata": {
        "id": "view-in-github",
        "colab_type": "text"
      },
      "source": [
        "<a href=\"https://colab.research.google.com/github/shraddhaborah/ImageCaptionGenerator/blob/main/Image_Caption_Generator.ipynb\" target=\"_parent\"><img src=\"https://colab.research.google.com/assets/colab-badge.svg\" alt=\"Open In Colab\"/></a>"
      ]
    },
    {
      "cell_type": "code",
      "execution_count": 9,
      "metadata": {
        "id": "gEXTXITQIqmh"
      },
      "outputs": [],
      "source": [
        "from PIL import Image\n",
        "import gradio as gr\n",
        "from transformers import BlipProcessor, BlipForConditionalGeneration"
      ]
    },
    {
      "cell_type": "code",
      "source": [
        "\n",
        "\n",
        "class ImageCaption:\n",
        "    def __init__(self):\n",
        "        print(\"Loading BLIP model...\")\n",
        "        self.processor = BlipProcessor.from_pretrained(\"Salesforce/blip-image-captioning-base\")\n",
        "        self.model = BlipForConditionalGeneration.from_pretrained(\"Salesforce/blip-image-captioning-base\")\n",
        "        print(\"Model loaded successfully!\")\n",
        "\n",
        "    def generate(self, img):\n",
        "\n",
        "        if isinstance(img, str):\n",
        "            img = Image.open(img)\n",
        "\n",
        "\n",
        "        inputs = self.processor(img, return_tensors='pt')\n",
        "\n",
        "        # Generate caption\n",
        "        out = self.model.generate(**inputs, max_length=50)\n",
        "        caption = self.processor.decode(out[0], skip_special_tokens=True)\n",
        "\n",
        "        return caption\n",
        "\n",
        "\n",
        "if __name__ == \"__main__\":\n",
        "\n",
        "        ic = ImageCaption()\n",
        "\n",
        "\n",
        "        img_path = '/content/Psyduck.png'\n",
        "\n",
        "\n",
        "        caption = ic.generate(img_path)  # Pass path string\n",
        "\n",
        "\n",
        "       # print('Caption of image:', caption)\n",
        "        app =gr.Interface(\n",
        "           fn= ic.generate,\n",
        "           inputs=gr.Image(type='pil'),\n",
        "           outputs=\"text\",\n",
        "           description =\"Upload an image to generate caption :\"\n",
        "       )\n",
        "        app.launch(share=True)"
      ],
      "metadata": {
        "colab": {
          "base_uri": "https://localhost:8080/",
          "height": 646
        },
        "id": "nSsaR-ksJEmA",
        "outputId": "201c6906-260e-48f4-d612-e6197fd9d70f"
      },
      "execution_count": 15,
      "outputs": [
        {
          "output_type": "stream",
          "name": "stdout",
          "text": [
            "Loading BLIP model...\n",
            "Model loaded successfully!\n",
            "Colab notebook detected. To show errors in colab notebook, set debug=True in launch()\n",
            "* Running on public URL: https://7e190036c417d19f8a.gradio.live\n",
            "\n",
            "This share link expires in 1 week. For free permanent hosting and GPU upgrades, run `gradio deploy` from the terminal in the working directory to deploy to Hugging Face Spaces (https://huggingface.co/spaces)\n"
          ]
        },
        {
          "output_type": "display_data",
          "data": {
            "text/plain": [
              "<IPython.core.display.HTML object>"
            ],
            "text/html": [
              "<div><iframe src=\"https://7e190036c417d19f8a.gradio.live\" width=\"100%\" height=\"500\" allow=\"autoplay; camera; microphone; clipboard-read; clipboard-write;\" frameborder=\"0\" allowfullscreen></iframe></div>"
            ]
          },
          "metadata": {}
        }
      ]
    },
    {
      "cell_type": "code",
      "source": [],
      "metadata": {
        "id": "QQMIZxOdJJHN"
      },
      "execution_count": null,
      "outputs": []
    }
  ]
}